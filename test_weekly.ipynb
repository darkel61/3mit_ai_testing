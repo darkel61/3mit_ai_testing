{
 "cells": [
  {
   "cell_type": "code",
   "execution_count": 4,
   "id": "01e0bbcd",
   "metadata": {},
   "outputs": [
    {
     "name": "stdout",
     "output_type": "stream",
     "text": [
      "                   ts     y\n",
      "2010-09-27 2010-09-27  2801\n",
      "2010-10-04 2010-10-04  3238\n",
      "2010-10-11 2010-10-11  6241\n",
      "2010-10-18 2010-10-18  7756\n",
      "2010-10-25 2010-10-25  9556\n"
     ]
    }
   ],
   "source": [
    "# Imports\n",
    "\n",
    "import warnings\n",
    "from collections import defaultdict\n",
    "\n",
    "import plotly\n",
    "import pandas as pd\n",
    "\n",
    "from greykite.common.constants import TIME_COL\n",
    "from greykite.common.constants import VALUE_COL\n",
    "from greykite.framework.benchmark.data_loader_ts import DataLoader\n",
    "from greykite.framework.input.univariate_time_series import UnivariateTimeSeries\n",
    "from greykite.framework.templates.autogen.forecast_config import EvaluationPeriodParam\n",
    "from greykite.framework.templates.autogen.forecast_config import ForecastConfig\n",
    "from greykite.framework.templates.autogen.forecast_config import MetadataParam\n",
    "from greykite.framework.templates.autogen.forecast_config import ModelComponentsParam\n",
    "from greykite.framework.templates.forecaster import Forecaster\n",
    "from greykite.framework.utils.result_summary import summarize_grid_search_results\n",
    "\n",
    "warnings.filterwarnings(\"ignore\")\n",
    "\n",
    "# %%\n",
    "# Loads weekly dataset into ``UnivariateTimeSeries``.\n",
    "dl = DataLoader()\n",
    "agg_func = {\"count\": \"sum\"}\n",
    "df = dl.load_bikesharing(agg_freq=\"weekly\", agg_func=agg_func)\n",
    "# In this dataset the first week and last week's data are incomplete, therefore we drop it\n",
    "df.drop(df.head(1).index,inplace=True)\n",
    "df.drop(df.tail(1).index,inplace=True)\n",
    "df.reset_index(drop=True)\n",
    "ts = UnivariateTimeSeries()\n",
    "ts.load_data(\n",
    "    df=df,\n",
    "    time_col=\"ts\",\n",
    "    value_col=\"count\",\n",
    "    freq=\"W-MON\")\n",
    "print(ts.df.head())"
   ]
  },
  {
   "cell_type": "markdown",
   "id": "a8f4a469",
   "metadata": {},
   "source": [
    "\n",
    "Exploratory Data Analysis (EDA)\n",
    "-------------------------------\n",
    "After reading in a time series, we could first do some exploratory data analysis.\n",
    "The `~greykite.framework.input.univariate_time_series.UnivariateTimeSeries` class is\n",
    "used to store a timeseries and perform EDA."
   ]
  },
  {
   "cell_type": "code",
   "execution_count": 7,
   "id": "dca4a2c1",
   "metadata": {},
   "outputs": [
    {
     "name": "stdout",
     "output_type": "stream",
     "text": [
      "{'data_points': 466, 'mean_increment_secs': 604800.0, 'min_timestamp': Timestamp('2010-09-27 00:00:00'), 'max_timestamp': Timestamp('2019-08-26 00:00:00')}\n",
      "count       466.000000\n",
      "mean      53466.961373\n",
      "std       24728.824016\n",
      "min        2801.000000\n",
      "25%       32819.750000\n",
      "50%       51921.500000\n",
      "75%       76160.750000\n",
      "max      102350.000000\n",
      "Name: y, dtype: float64\n"
     ]
    }
   ],
   "source": [
    "print(ts.describe_time_col())\n",
    "print(ts.describe_value_col())"
   ]
  }
 ],
 "metadata": {
  "kernelspec": {
   "display_name": "greykite-env",
   "language": "python",
   "name": "python3"
  },
  "language_info": {
   "codemirror_mode": {
    "name": "ipython",
    "version": 3
   },
   "file_extension": ".py",
   "mimetype": "text/x-python",
   "name": "python",
   "nbconvert_exporter": "python",
   "pygments_lexer": "ipython3",
   "version": "3.10.2"
  }
 },
 "nbformat": 4,
 "nbformat_minor": 5
}
